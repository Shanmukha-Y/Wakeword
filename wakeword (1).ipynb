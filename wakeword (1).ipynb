{
  "nbformat": 4,
  "nbformat_minor": 0,
  "metadata": {
    "colab": {
      "name": "wakeword.ipynb",
      "provenance": [],
      "collapsed_sections": []
    },
    "kernelspec": {
      "name": "python3",
      "display_name": "Python 3"
    }
  },
  "cells": [
    {
      "cell_type": "code",
      "metadata": {
        "id": "S1zT1_0vNu_3",
        "colab_type": "code",
        "outputId": "c697ffcd-b5c9-49fb-eadf-1a55bce2a70b",
        "colab": {
          "base_uri": "https://localhost:8080/",
          "height": 34
        }
      },
      "source": [
        "!git clone https://github.com/Picovoice/wake-word-benchmark.git"
      ],
      "execution_count": 0,
      "outputs": [
        {
          "output_type": "stream",
          "text": [
            "fatal: destination path 'wake-word-benchmark' already exists and is not an empty directory.\n"
          ],
          "name": "stdout"
        }
      ]
    },
    {
      "cell_type": "code",
      "metadata": {
        "id": "lsihg_BCO0P3",
        "colab_type": "code",
        "outputId": "0bb56deb-a192-48cf-ad13-2d41e7fd8def",
        "colab": {
          "base_uri": "https://localhost:8080/",
          "height": 34
        }
      },
      "source": [
        "import os\n",
        "os.listdir(os.getcwd())"
      ],
      "execution_count": 0,
      "outputs": [
        {
          "output_type": "execute_result",
          "data": {
            "text/plain": [
              "['.config', 'wake-word-benchmark', 'sample_data']"
            ]
          },
          "metadata": {
            "tags": []
          },
          "execution_count": 4
        }
      ]
    },
    {
      "cell_type": "code",
      "metadata": {
        "id": "1AlpSVVIO82a",
        "colab_type": "code",
        "colab": {}
      },
      "source": [
        "path = os.getcwd()\n",
        "\n",
        "folders = os.listdir(path+'/wake-word-benchmark/audio')\n",
        "\n",
        "path2 = path+'/wake-word-benchmark/audio'"
      ],
      "execution_count": 0,
      "outputs": []
    },
    {
      "cell_type": "code",
      "metadata": {
        "id": "tMecGAM7Pj6h",
        "colab_type": "code",
        "outputId": "d4165a9e-cd61-45a5-ff87-791230340ab7",
        "colab": {
          "base_uri": "https://localhost:8080/",
          "height": 228
        }
      },
      "source": [
        "\n",
        "for i in folders:\n",
        "  print(i)\n",
        "  c=0\n",
        "  print(len(os.listdir(path2+\"/\"+i)))\n",
        "\n"
      ],
      "execution_count": 0,
      "outputs": [
        {
          "output_type": "stream",
          "text": [
            "smart mirror\n",
            "369\n",
            "snowboy\n",
            "401\n",
            "view glass\n",
            "399\n",
            "alexa\n",
            "329\n",
            "jarvis\n",
            "384\n",
            "computer\n",
            "411\n"
          ],
          "name": "stdout"
        }
      ]
    },
    {
      "cell_type": "code",
      "metadata": {
        "id": "7m_fmEdaRj-i",
        "colab_type": "code",
        "colab": {}
      },
      "source": [
        "alexa = path2+'/'+'alexa'\n",
        "jarvis = path2+'/'+'jarvis'\n",
        "smart = path2+'/'+'smart mirror'\n",
        "\n",
        "comp = path2+'/'+'computer'\n",
        "view = path2+'/'+'view glass'\n",
        "snow = path2+'/'+'snowboy'"
      ],
      "execution_count": 0,
      "outputs": []
    },
    {
      "cell_type": "code",
      "metadata": {
        "id": "idQ59c2TRJ1X",
        "colab_type": "code",
        "colab": {}
      },
      "source": [
        "import librosa\n"
      ],
      "execution_count": 0,
      "outputs": []
    },
    {
      "cell_type": "code",
      "metadata": {
        "id": "s2OTDWPnSLQs",
        "colab_type": "code",
        "colab": {}
      },
      "source": [
        "for i in os.listdir(alexa):\n",
        "  audio_path = alexa+\"/\"+i\n",
        "  x , sr = librosa.load(audio_path)\n",
        "  print(type(x), type(sr))"
      ],
      "execution_count": 0,
      "outputs": []
    },
    {
      "cell_type": "code",
      "metadata": {
        "id": "8pla3zl5S-DW",
        "colab_type": "code",
        "outputId": "6af1ea7e-15a2-45ad-da6b-f8e1d20ee51c",
        "colab": {
          "base_uri": "https://localhost:8080/",
          "height": 34
        }
      },
      "source": [
        "x"
      ],
      "execution_count": 0,
      "outputs": [
        {
          "output_type": "execute_result",
          "data": {
            "text/plain": [
              "array([0., 0., 0., ..., 0., 0., 0.], dtype=float32)"
            ]
          },
          "metadata": {
            "tags": []
          },
          "execution_count": 10
        }
      ]
    },
    {
      "cell_type": "code",
      "metadata": {
        "id": "njL-F8dYTIcw",
        "colab_type": "code",
        "outputId": "9fa6cc49-f159-4d6c-9d36-02c0051c5d83",
        "colab": {
          "base_uri": "https://localhost:8080/",
          "height": 354
        }
      },
      "source": [
        "\n",
        "\n",
        "audio_path = alexa+\"/\"+os.listdir(alexa)[2]\n",
        "x , sr = librosa.load(audio_path)\n",
        "import matplotlib.pyplot as plt\n",
        "import librosa.display\n",
        "plt.figure(figsize=(14, 5))\n",
        "librosa.display.waveplot(x, sr=sr)"
      ],
      "execution_count": 0,
      "outputs": [
        {
          "output_type": "execute_result",
          "data": {
            "text/plain": [
              "<matplotlib.collections.PolyCollection at 0x7fe3ba75bdd8>"
            ]
          },
          "metadata": {
            "tags": []
          },
          "execution_count": 11
        },
        {
          "output_type": "display_data",
          "data": {
            "image/png": "[encoded data removed]",
            "text/plain": [
              "<Figure size 1008x360 with 1 Axes>"
            ]
          },
          "metadata": {
            "tags": []
          }
        }
      ]
    },
    {
      "cell_type": "code",
      "metadata": {
        "id": "svuD5LbGT5A-",
        "colab_type": "code",
        "outputId": "80879466-877c-4573-822e-8d20fb961fd7",
        "colab": {
          "base_uri": "https://localhost:8080/",
          "height": 354
        }
      },
      "source": [
        "X = librosa.stft(x)\n",
        "Xdb = librosa.amplitude_to_db(abs(X))\n",
        "plt.figure(figsize=(14, 5))\n",
        "librosa.display.specshow(Xdb, sr=sr, x_axis='time', y_axis='hz') \n",
        "#If to pring log of frequencies  \n",
        "#librosa.display.specshow(Xdb, sr=sr, x_axis='time', y_axis='log')\n",
        "plt.colorbar()"
      ],
      "execution_count": 0,
      "outputs": [
        {
          "output_type": "execute_result",
          "data": {
            "text/plain": [
              "<matplotlib.colorbar.Colorbar at 0x7fe3b86627b8>"
            ]
          },
          "metadata": {
            "tags": []
          },
          "execution_count": 12
        },
        {
          "output_type": "display_data",
          "data": {
            "image/png": "[encoded data removed]",
            "text/plain": [
              "<Figure size 1008x360 with 2 Axes>"
            ]
          },
          "metadata": {
            "tags": []
          }
        }
      ]
    },
    {
      "cell_type": "code",
      "metadata": {
        "id": "iaLfbpmAVRez",
        "colab_type": "code",
        "outputId": "0b0a0e15-e88e-4846-9b70-a36ba98e00a9",
        "colab": {
          "base_uri": "https://localhost:8080/",
          "height": 301
        }
      },
      "source": [
        "#spectral centroid -- centre of mass -- weighted mean of the frequencies present in the sound\n",
        "import sklearn\n",
        "spectral_centroids = librosa.feature.spectral_centroid(x, sr=sr)[0]\n",
        "spectral_centroids.shape\n",
        "# Computing the time variable for visualization\n",
        "frames = range(len(spectral_centroids))\n",
        "t = librosa.frames_to_time(frames)\n",
        "# Normalising the spectral centroid for visualisation\n",
        "def normalize(x, axis=0):\n",
        "    return sklearn.preprocessing.minmax_scale(x, axis=axis)\n",
        "#Plotting the Spectral Centroid along the waveform\n",
        "librosa.display.waveplot(x, sr=sr, alpha=0.4)\n",
        "plt.plot(t, normalize(spectral_centroids), color='r')"
      ],
      "execution_count": 0,
      "outputs": [
        {
          "output_type": "execute_result",
          "data": {
            "text/plain": [
              "[<matplotlib.lines.Line2D at 0x7fe3b85afcc0>]"
            ]
          },
          "metadata": {
            "tags": []
          },
          "execution_count": 13
        },
        {
          "output_type": "display_data",
          "data": {
            "image/png": "[encoded data removed]",
            "text/plain": [
              "<Figure size 432x288 with 1 Axes>"
            ]
          },
          "metadata": {
            "tags": []
          }
        }
      ]
    },
    {
      "cell_type": "code",
      "metadata": {
        "id": "K0PfYcpVWe2i",
        "colab_type": "code",
        "outputId": "6f0019c7-f066-45e4-a88e-6405e1fb5e27",
        "colab": {
          "base_uri": "https://localhost:8080/",
          "height": 246
        }
      },
      "source": [
        "Xdb"
      ],
      "execution_count": 0,
      "outputs": [
        {
          "output_type": "execute_result",
          "data": {
            "text/plain": [
              "array([[-39.206482, -39.206482, -39.206482, ..., -39.206482, -39.206482,\n",
              "        -39.206482],\n",
              "       [-39.206482, -39.206482, -39.206482, ..., -39.206482, -39.206482,\n",
              "        -39.206482],\n",
              "       [-39.206482, -39.206482, -39.206482, ..., -39.206482, -39.206482,\n",
              "        -39.206482],\n",
              "       ...,\n",
              "       [-39.206482, -39.206482, -39.206482, ..., -39.206482, -39.206482,\n",
              "        -39.206482],\n",
              "       [-39.206482, -39.206482, -39.206482, ..., -39.206482, -39.206482,\n",
              "        -39.206482],\n",
              "       [-39.206482, -39.206482, -39.206482, ..., -39.206482, -39.206482,\n",
              "        -39.206482]], dtype=float32)"
            ]
          },
          "metadata": {
            "tags": []
          },
          "execution_count": 14
        }
      ]
    },
    {
      "cell_type": "code",
      "metadata": {
        "id": "DOyUcqh9X1_F",
        "colab_type": "code",
        "colab": {}
      },
      "source": [
        ""
      ],
      "execution_count": 0,
      "outputs": []
    },
    {
      "cell_type": "code",
      "metadata": {
        "id": "_hVQl7usW76M",
        "colab_type": "code",
        "colab": {}
      },
      "source": [
        "from scipy import signal\n",
        "import numpy as np\n",
        "f, t, Zxx = signal.stft(x)"
      ],
      "execution_count": 0,
      "outputs": []
    },
    {
      "cell_type": "code",
      "metadata": {
        "id": "yWUSpggWXQbX",
        "colab_type": "code",
        "outputId": "1bbc6201-f365-4535-90d9-b53dac07e186",
        "colab": {
          "base_uri": "https://localhost:8080/",
          "height": 286
        }
      },
      "source": [
        "plt.pcolormesh(t, f, np.abs(Zxx))"
      ],
      "execution_count": 0,
      "outputs": [
        {
          "output_type": "execute_result",
          "data": {
            "text/plain": [
              "<matplotlib.collections.QuadMesh at 0x7fe3b74ef7f0>"
            ]
          },
          "metadata": {
            "tags": []
          },
          "execution_count": 16
        },
        {
          "output_type": "display_data",
          "data": {
            "image/png": "[encoded data removed]",
            "text/plain": [
              "<Figure size 432x288 with 1 Axes>"
            ]
          },
          "metadata": {
            "tags": []
          }
        }
      ]
    },
    {
      "cell_type": "code",
      "metadata": {
        "id": "1jertZQjfetP",
        "colab_type": "code",
        "outputId": "7c2762d5-e927-4304-a620-8069cdac05b0",
        "colab": {
          "base_uri": "https://localhost:8080/",
          "height": 52
        }
      },
      "source": [
        "fl = Zxx.flatten()\n",
        "fl"
      ],
      "execution_count": 0,
      "outputs": [
        {
          "output_type": "execute_result",
          "data": {
            "text/plain": [
              "array([0.+0.j, 0.+0.j, 0.+0.j, ..., 0.+0.j, 0.+0.j, 0.+0.j],\n",
              "      dtype=complex64)"
            ]
          },
          "metadata": {
            "tags": []
          },
          "execution_count": 17
        }
      ]
    },
    {
      "cell_type": "code",
      "metadata": {
        "id": "4z8IqaLWakWO",
        "colab_type": "code",
        "colab": {}
      },
      "source": [
        "l=list()\n",
        "for i in os.listdir(alexa):\n",
        "  audio_path = alexa+\"/\"+i\n",
        "  x , sr = librosa.load(audio_path)\n",
        "  f, t, Zxx = signal.stft(x)\n",
        "  l.append(Zxx.flatten())\n",
        "  "
      ],
      "execution_count": 0,
      "outputs": []
    },
    {
      "cell_type": "code",
      "metadata": {
        "id": "x5NgoW2UpqND",
        "colab_type": "code",
        "colab": {}
      },
      "source": [
        "type(l)"
      ],
      "execution_count": 0,
      "outputs": []
    },
    {
      "cell_type": "code",
      "metadata": {
        "id": "7UlDnBwIgjRp",
        "colab_type": "code",
        "colab": {}
      },
      "source": [
        "\n",
        "for i in l:\n",
        "  print(len(i))"
      ],
      "execution_count": 0,
      "outputs": []
    },
    {
      "cell_type": "code",
      "metadata": {
        "id": "v7uV1m5le-SP",
        "colab_type": "code",
        "colab": {}
      },
      "source": [
        "l2=list()\n",
        "for i in os.listdir(jarvis):\n",
        "  audio_path = jarvis+\"/\"+i\n",
        "  x , sr = librosa.load(audio_path)\n",
        "  f, t, Zxx = signal.stft(x)\n",
        "  l2.append(Zxx.flatten())\n",
        "  "
      ],
      "execution_count": 0,
      "outputs": []
    },
    {
      "cell_type": "code",
      "metadata": {
        "id": "n0ndnsmxpr20",
        "colab_type": "code",
        "colab": {}
      },
      "source": [
        "len(l2)"
      ],
      "execution_count": 0,
      "outputs": []
    },
    {
      "cell_type": "code",
      "metadata": {
        "id": "awpGrddzlx7R",
        "colab_type": "code",
        "colab": {}
      },
      "source": [
        "for i in l2:\n",
        "  print(len(i))"
      ],
      "execution_count": 0,
      "outputs": []
    },
    {
      "cell_type": "code",
      "metadata": {
        "id": "qOBJjI7KkgtG",
        "colab_type": "code",
        "colab": {}
      },
      "source": [
        "l3=list()\n",
        "for i in os.listdir(comp):\n",
        "  audio_path = comp+\"/\"+i\n",
        "  x , sr = librosa.load(audio_path)\n",
        "  f, t, Zxx = signal.stft(x)\n",
        "  l3.append(Zxx.flatten())\n",
        "  "
      ],
      "execution_count": 0,
      "outputs": []
    },
    {
      "cell_type": "code",
      "metadata": {
        "id": "EBcIjT4Qo4wv",
        "colab_type": "code",
        "colab": {}
      },
      "source": [
        "for i in l3:\n",
        "  print(len(i))"
      ],
      "execution_count": 0,
      "outputs": []
    },
    {
      "cell_type": "code",
      "metadata": {
        "id": "23UqumqZkupe",
        "colab_type": "code",
        "colab": {}
      },
      "source": [
        "l4=list()\n",
        "for i in os.listdir(smart):\n",
        "  audio_path = smart+\"/\"+i\n",
        "  x , sr = librosa.load(audio_path)\n",
        "  f, t, Zxx = signal.stft(x)\n",
        "  l4.append(Zxx.flatten())\n",
        "  "
      ],
      "execution_count": 0,
      "outputs": []
    },
    {
      "cell_type": "code",
      "metadata": {
        "id": "qigITv9Go9SD",
        "colab_type": "code",
        "colab": {}
      },
      "source": [
        ""
      ],
      "execution_count": 0,
      "outputs": []
    },
    {
      "cell_type": "code",
      "metadata": {
        "id": "3DZNx6KUlB9f",
        "colab_type": "code",
        "colab": {}
      },
      "source": [
        "l5=list()\n",
        "for i in os.listdir(view):\n",
        "  audio_path = view+\"/\"+i\n",
        "  x , sr = librosa.load(audio_path)\n",
        "  f, t, Zxx = signal.stft(x)\n",
        "  l5.append(Zxx.flatten())"
      ],
      "execution_count": 0,
      "outputs": []
    },
    {
      "cell_type": "code",
      "metadata": {
        "id": "GGAIMDXhlHkU",
        "colab_type": "code",
        "colab": {}
      },
      "source": [
        "l6=list()\n",
        "for i in os.listdir(snow):\n",
        "  audio_path = snow+\"/\"+i\n",
        "  x , sr = librosa.load(audio_path)\n",
        "  f, t, Zxx = signal.stft(x)\n",
        "  l6.append(Zxx.flatten())"
      ],
      "execution_count": 0,
      "outputs": []
    },
    {
      "cell_type": "code",
      "metadata": {
        "id": "3CqffOMkpKjY",
        "colab_type": "code",
        "outputId": "bd5d836e-90b3-4254-aca9-3bb0d6395796",
        "colab": {
          "base_uri": "https://localhost:8080/",
          "height": 34
        }
      },
      "source": [
        "tar = list()\n",
        "for i in l:\n",
        "  tar.append([0,0,0,0,0,1])\n",
        "len(tar)"
      ],
      "execution_count": 0,
      "outputs": [
        {
          "output_type": "execute_result",
          "data": {
            "text/plain": [
              "329"
            ]
          },
          "metadata": {
            "tags": []
          },
          "execution_count": 69
        }
      ]
    },
    {
      "cell_type": "code",
      "metadata": {
        "id": "cdYCpSagqmSC",
        "colab_type": "code",
        "colab": {}
      },
      "source": [
        "for i in l2:\n",
        "  tar.append([0,0,0,0,1,0])"
      ],
      "execution_count": 0,
      "outputs": []
    },
    {
      "cell_type": "code",
      "metadata": {
        "id": "jDaSxHA-quow",
        "colab_type": "code",
        "colab": {}
      },
      "source": [
        "for i in l3:\n",
        "  tar.append([0,0,0,1,0,0])"
      ],
      "execution_count": 0,
      "outputs": []
    },
    {
      "cell_type": "code",
      "metadata": {
        "id": "s-3QVj2aq5W1",
        "colab_type": "code",
        "colab": {}
      },
      "source": [
        "for i in l4:\n",
        "  tar.append([0,0,1,0,0,0])"
      ],
      "execution_count": 0,
      "outputs": []
    },
    {
      "cell_type": "code",
      "metadata": {
        "id": "usQQBR7zrAHZ",
        "colab_type": "code",
        "colab": {}
      },
      "source": [
        "for i in l5:\n",
        "  tar.append([0,1,0,0,0,0])"
      ],
      "execution_count": 0,
      "outputs": []
    },
    {
      "cell_type": "code",
      "metadata": {
        "id": "FXyuwkARrEF2",
        "colab_type": "code",
        "colab": {}
      },
      "source": [
        "for i in l6:\n",
        "  tar.append([1,0,0,0,0,0])"
      ],
      "execution_count": 0,
      "outputs": []
    },
    {
      "cell_type": "code",
      "metadata": {
        "id": "zyvtb1-JrKT6",
        "colab_type": "code",
        "outputId": "1dc8b875-ee60-4f27-a6ac-66bcb17cc4e5",
        "colab": {
          "base_uri": "https://localhost:8080/",
          "height": 34
        }
      },
      "source": [
        "len(tar)"
      ],
      "execution_count": 0,
      "outputs": [
        {
          "output_type": "execute_result",
          "data": {
            "text/plain": [
              "2293"
            ]
          },
          "metadata": {
            "tags": []
          },
          "execution_count": 30
        }
      ]
    },
    {
      "cell_type": "code",
      "metadata": {
        "id": "uhUiVkxurNUX",
        "colab_type": "code",
        "colab": {}
      },
      "source": [
        ""
      ],
      "execution_count": 0,
      "outputs": []
    },
    {
      "cell_type": "code",
      "metadata": {
        "id": "LOcFi_TPrbzC",
        "colab_type": "code",
        "colab": {}
      },
      "source": [
        "final = l+l2+l3+l4+l5+l6\n"
      ],
      "execution_count": 0,
      "outputs": []
    },
    {
      "cell_type": "code",
      "metadata": {
        "id": "uofCIYG1Y_eI",
        "colab_type": "code",
        "outputId": "07d0d589-befe-4d20-d54e-a29196130c7b",
        "colab": {
          "base_uri": "https://localhost:8080/",
          "height": 34
        }
      },
      "source": [
        "len(final)"
      ],
      "execution_count": 0,
      "outputs": [
        {
          "output_type": "execute_result",
          "data": {
            "text/plain": [
              "2293"
            ]
          },
          "metadata": {
            "tags": []
          },
          "execution_count": 32
        }
      ]
    },
    {
      "cell_type": "code",
      "metadata": {
        "id": "uzSUalWyovOW",
        "colab_type": "code",
        "colab": {}
      },
      "source": [
        "size =list()\n",
        "for i in final:\n",
        "  size.append(len(i))"
      ],
      "execution_count": 0,
      "outputs": []
    },
    {
      "cell_type": "code",
      "metadata": {
        "id": "SDeAUFctZFK3",
        "colab_type": "code",
        "outputId": "43c75fcb-1d30-4288-af30-374ccb91be3d",
        "colab": {
          "base_uri": "https://localhost:8080/",
          "height": 34
        }
      },
      "source": [
        "min(size)"
      ],
      "execution_count": 0,
      "outputs": [
        {
          "output_type": "execute_result",
          "data": {
            "text/plain": [
              "29025"
            ]
          },
          "metadata": {
            "tags": []
          },
          "execution_count": 34
        }
      ]
    },
    {
      "cell_type": "code",
      "metadata": {
        "id": "aNDP3IyqZR_8",
        "colab_type": "code",
        "outputId": "9f59fd70-0b98-438b-cd40-4409dedf7518",
        "colab": {
          "base_uri": "https://localhost:8080/",
          "height": 34
        }
      },
      "source": [
        "np.argmin(size)"
      ],
      "execution_count": 0,
      "outputs": [
        {
          "output_type": "execute_result",
          "data": {
            "text/plain": [
              "74"
            ]
          },
          "metadata": {
            "tags": []
          },
          "execution_count": 35
        }
      ]
    },
    {
      "cell_type": "code",
      "metadata": {
        "id": "lxB39tMQZXPR",
        "colab_type": "code",
        "outputId": "b01efe65-cbfe-43fb-ebbc-323c8d38d197",
        "colab": {
          "base_uri": "https://localhost:8080/",
          "height": 34
        }
      },
      "source": [
        "len(final[74])"
      ],
      "execution_count": 0,
      "outputs": [
        {
          "output_type": "execute_result",
          "data": {
            "text/plain": [
              "29025"
            ]
          },
          "metadata": {
            "tags": []
          },
          "execution_count": 36
        }
      ]
    },
    {
      "cell_type": "code",
      "metadata": {
        "id": "-ltwrpNvgIgs",
        "colab_type": "code",
        "colab": {}
      },
      "source": [
        "l"
      ],
      "execution_count": 0,
      "outputs": []
    },
    {
      "cell_type": "code",
      "metadata": {
        "id": "oxLa-j9Ldfij",
        "colab_type": "code",
        "colab": {}
      },
      "source": [
        "new_fin=list()\n",
        "for i in final:\n",
        "    dif = len(i)-29025\n",
        "    n= dif/2\n",
        "    new_fin.append(i[int(n):int(len(i)-n)])\n",
        "  "
      ],
      "execution_count": 0,
      "outputs": []
    },
    {
      "cell_type": "code",
      "metadata": {
        "id": "zLgUvOHnhhn6",
        "colab_type": "code",
        "colab": {}
      },
      "source": [
        "for i in new_fin:\n",
        "  print(len(i))"
      ],
      "execution_count": 0,
      "outputs": []
    },
    {
      "cell_type": "code",
      "metadata": {
        "id": "leaoOmMMpMQs",
        "colab_type": "code",
        "colab": {}
      },
      "source": [
        "new_fin = np.asarray(new_fin)"
      ],
      "execution_count": 0,
      "outputs": []
    },
    {
      "cell_type": "code",
      "metadata": {
        "id": "2BmfaRrErlrZ",
        "colab_type": "code",
        "outputId": "e2302bca-3e02-469b-a9db-d9d1f2fad17d",
        "colab": {
          "base_uri": "https://localhost:8080/",
          "height": 34
        }
      },
      "source": [
        "import numpy as np\n",
        "import keras\n",
        "from keras.datasets import mnist\n",
        "from keras.models import Sequential\n",
        "from keras.layers import Dense, Dropout, Flatten, Conv2D, MaxPooling2D\n",
        "from keras import backend as K\n",
        "from keras.preprocessing import image\n",
        "from keras.applications.mobilenet import MobileNet\n",
        "from keras.applications.vgg16 import preprocess_input, decode_predictions\n",
        "from keras.models import Model\n",
        "import timeit\n",
        "\n",
        "import warnings\n",
        "warnings.filterwarnings('ignore')"
      ],
      "execution_count": 0,
      "outputs": [
        {
          "output_type": "stream",
          "text": [
            "Using TensorFlow backend.\n"
          ],
          "name": "stderr"
        }
      ]
    },
    {
      "cell_type": "code",
      "metadata": {
        "id": "iMqpqV7ZtJ3f",
        "colab_type": "code",
        "outputId": "7202d372-7733-4443-ac9e-3d9049077aaa",
        "colab": {
          "base_uri": "https://localhost:8080/",
          "height": 34
        }
      },
      "source": [
        "new_fin.shape"
      ],
      "execution_count": 0,
      "outputs": [
        {
          "output_type": "execute_result",
          "data": {
            "text/plain": [
              "(2293, 29025)"
            ]
          },
          "metadata": {
            "tags": []
          },
          "execution_count": 145
        }
      ]
    },
    {
      "cell_type": "code",
      "metadata": {
        "id": "qN3HBhklmm2t",
        "colab_type": "code",
        "outputId": "6a8ff36b-e14f-42f8-8f58-ea4b087d5079",
        "colab": {
          "base_uri": "https://localhost:8080/",
          "height": 140
        }
      },
      "source": [
        "target = np.asarray(tar)\n",
        "target"
      ],
      "execution_count": 0,
      "outputs": [
        {
          "output_type": "execute_result",
          "data": {
            "text/plain": [
              "array([[0, 0, 0, 0, 0, 1],\n",
              "       [0, 0, 0, 0, 0, 1],\n",
              "       [0, 0, 0, 0, 0, 1],\n",
              "       ...,\n",
              "       [1, 0, 0, 0, 0, 0],\n",
              "       [1, 0, 0, 0, 0, 0],\n",
              "       [1, 0, 0, 0, 0, 0]])"
            ]
          },
          "metadata": {
            "tags": []
          },
          "execution_count": 76
        }
      ]
    },
    {
      "cell_type": "code",
      "metadata": {
        "id": "ML0tz4bLsb9k",
        "colab_type": "code",
        "colab": {}
      },
      "source": [
        "batch_size = 128\n",
        "num_classes = 6\n",
        "epochs = 2\n",
        "\n",
        "\n",
        "\n",
        "# the data, shuffled and split between train and test sets\n",
        "from sklearn.model_selection import train_test_split\n",
        "x_train, x_test, y_train, y_test = train_test_split(new_fin, target, test_size=0.25, random_state=42)\n",
        "\n"
      ],
      "execution_count": 0,
      "outputs": []
    },
    {
      "cell_type": "code",
      "metadata": {
        "id": "bpQ44lVGj0DE",
        "colab_type": "code",
        "outputId": "158fdfb6-e056-4b73-95c3-f1a661e0826c",
        "colab": {
          "base_uri": "https://localhost:8080/",
          "height": 34
        }
      },
      "source": [
        "x_train.shape"
      ],
      "execution_count": 0,
      "outputs": [
        {
          "output_type": "execute_result",
          "data": {
            "text/plain": [
              "(1719, 29025)"
            ]
          },
          "metadata": {
            "tags": []
          },
          "execution_count": 79
        }
      ]
    },
    {
      "cell_type": "code",
      "metadata": {
        "id": "8VBKEClnjn7a",
        "colab_type": "code",
        "colab": {}
      },
      "source": [
        "classifier = Sequential()\n",
        "#First Hidden Layer\n",
        "classifier.add(Dense(64, activation='relu', kernel_initializer='random_normal', input_dim=29025))\n",
        "#Second  Hidden Layer\n",
        "classifier.add(Dense(64, activation='relu', kernel_initializer='random_normal'))\n",
        "\n",
        "classifier.add(Dense(32, activation='relu', kernel_initializer='random_normal'))\n",
        "#Output Layer\n",
        "classifier.add(Dense(6, activation='sigmoid', kernel_initializer='random_normal'))"
      ],
      "execution_count": 0,
      "outputs": []
    },
    {
      "cell_type": "code",
      "metadata": {
        "id": "cmPuYL1ZrPz_",
        "colab_type": "code",
        "colab": {}
      },
      "source": [
        "from keras.optimizers import SGD\n",
        "opt = SGD(lr=0.01, momentum=0.8)"
      ],
      "execution_count": 0,
      "outputs": []
    },
    {
      "cell_type": "code",
      "metadata": {
        "id": "429Yg8f-nV2A",
        "colab_type": "code",
        "colab": {}
      },
      "source": [
        "classifier.compile(optimizer ='rmsprop',loss=keras.losses.categorical_crossentropy, metrics =['accuracy'])"
      ],
      "execution_count": 0,
      "outputs": []
    },
    {
      "cell_type": "code",
      "metadata": {
        "id": "vGcEfoFAnZph",
        "colab_type": "code",
        "outputId": "5c1fbd1d-849a-4fc9-d846-762ed0a063fc",
        "colab": {
          "base_uri": "https://localhost:8080/",
          "height": 1000
        }
      },
      "source": [
        "classifier.fit(x_train,y_train, batch_size=100, epochs=50)"
      ],
      "execution_count": 0,
      "outputs": [
        {
          "output_type": "stream",
          "text": [
            "Epoch 1/50\n",
            "1719/1719 [==============================] - 2s 1ms/step - loss: 1.7916 - acc: 0.1687\n",
            "Epoch 2/50\n",
            "1719/1719 [==============================] - 1s 560us/step - loss: 1.7910 - acc: 0.1850\n",
            "Epoch 3/50\n",
            "1719/1719 [==============================] - 1s 559us/step - loss: 1.7898 - acc: 0.1896\n",
            "Epoch 4/50\n",
            "1719/1719 [==============================] - 1s 556us/step - loss: 1.7862 - acc: 0.1856\n",
            "Epoch 5/50\n",
            "1719/1719 [==============================] - 1s 554us/step - loss: 1.7765 - acc: 0.1978\n",
            "Epoch 6/50\n",
            "1719/1719 [==============================] - 1s 559us/step - loss: 1.7575 - acc: 0.2164\n",
            "Epoch 7/50\n",
            "1719/1719 [==============================] - 1s 548us/step - loss: 1.7237 - acc: 0.2478\n",
            "Epoch 8/50\n",
            "1719/1719 [==============================] - 1s 558us/step - loss: 1.6668 - acc: 0.2641\n",
            "Epoch 9/50\n",
            "1719/1719 [==============================] - 1s 558us/step - loss: 1.5950 - acc: 0.2914\n",
            "Epoch 10/50\n",
            "1719/1719 [==============================] - 1s 556us/step - loss: 1.5136 - acc: 0.3188\n",
            "Epoch 11/50\n",
            "1719/1719 [==============================] - 1s 557us/step - loss: 1.4339 - acc: 0.3211\n",
            "Epoch 12/50\n",
            "1719/1719 [==============================] - 1s 559us/step - loss: 1.3714 - acc: 0.3386\n",
            "Epoch 13/50\n",
            "1719/1719 [==============================] - 1s 557us/step - loss: 1.3170 - acc: 0.3176\n",
            "Epoch 14/50\n",
            "1719/1719 [==============================] - 1s 551us/step - loss: 1.2816 - acc: 0.3258\n",
            "Epoch 15/50\n",
            "1719/1719 [==============================] - 1s 551us/step - loss: 1.2480 - acc: 0.3374\n",
            "Epoch 16/50\n",
            "1719/1719 [==============================] - 1s 553us/step - loss: 1.2193 - acc: 0.3455\n",
            "Epoch 17/50\n",
            "1719/1719 [==============================] - 1s 566us/step - loss: 1.1987 - acc: 0.3915\n",
            "Epoch 18/50\n",
            "1719/1719 [==============================] - 1s 543us/step - loss: 1.1758 - acc: 0.4229\n",
            "Epoch 19/50\n",
            "1719/1719 [==============================] - 1s 553us/step - loss: 1.1451 - acc: 0.4543\n",
            "Epoch 20/50\n",
            "1719/1719 [==============================] - 1s 542us/step - loss: 1.1112 - acc: 0.4852\n",
            "Epoch 21/50\n",
            "1719/1719 [==============================] - 1s 561us/step - loss: 1.0700 - acc: 0.4945\n",
            "Epoch 22/50\n",
            "1719/1719 [==============================] - 1s 545us/step - loss: 1.0319 - acc: 0.5038\n",
            "Epoch 23/50\n",
            "1719/1719 [==============================] - 1s 555us/step - loss: 1.0028 - acc: 0.4805\n",
            "Epoch 24/50\n",
            "1719/1719 [==============================] - 1s 556us/step - loss: 0.9795 - acc: 0.5125\n",
            "Epoch 25/50\n",
            "1719/1719 [==============================] - 1s 549us/step - loss: 0.9518 - acc: 0.5026\n",
            "Epoch 26/50\n",
            "1719/1719 [==============================] - 1s 553us/step - loss: 0.9292 - acc: 0.5003\n",
            "Epoch 27/50\n",
            "1719/1719 [==============================] - 1s 549us/step - loss: 0.9180 - acc: 0.5102\n",
            "Epoch 28/50\n",
            "1719/1719 [==============================] - 1s 550us/step - loss: 0.8883 - acc: 0.5387\n",
            "Epoch 29/50\n",
            "1719/1719 [==============================] - 1s 552us/step - loss: 0.8724 - acc: 0.5172\n",
            "Epoch 30/50\n",
            "1719/1719 [==============================] - 1s 545us/step - loss: 0.8512 - acc: 0.5509\n",
            "Epoch 31/50\n",
            "1719/1719 [==============================] - 1s 547us/step - loss: 0.8322 - acc: 0.5631\n",
            "Epoch 32/50\n",
            "1719/1719 [==============================] - 1s 553us/step - loss: 0.8178 - acc: 0.5817\n",
            "Epoch 33/50\n",
            "1719/1719 [==============================] - 1s 542us/step - loss: 0.8004 - acc: 0.5870\n",
            "Epoch 34/50\n",
            "1719/1719 [==============================] - 1s 572us/step - loss: 0.7770 - acc: 0.6009\n",
            "Epoch 35/50\n",
            "1719/1719 [==============================] - 1s 545us/step - loss: 0.7575 - acc: 0.6201\n",
            "Epoch 36/50\n",
            "1719/1719 [==============================] - 1s 549us/step - loss: 0.7367 - acc: 0.6213\n",
            "Epoch 37/50\n",
            "1719/1719 [==============================] - 1s 547us/step - loss: 0.7251 - acc: 0.6312\n",
            "Epoch 38/50\n",
            "1719/1719 [==============================] - 1s 553us/step - loss: 0.6946 - acc: 0.6382\n",
            "Epoch 39/50\n",
            "1719/1719 [==============================] - 1s 553us/step - loss: 0.6752 - acc: 0.6405\n",
            "Epoch 40/50\n",
            "1719/1719 [==============================] - 1s 556us/step - loss: 0.6573 - acc: 0.6521\n",
            "Epoch 41/50\n",
            "1719/1719 [==============================] - 1s 548us/step - loss: 0.6361 - acc: 0.6469\n",
            "Epoch 42/50\n",
            "1719/1719 [==============================] - 1s 550us/step - loss: 0.6154 - acc: 0.6539\n",
            "Epoch 43/50\n",
            "1719/1719 [==============================] - 1s 554us/step - loss: 0.5983 - acc: 0.6562\n",
            "Epoch 44/50\n",
            "1719/1719 [==============================] - 1s 558us/step - loss: 0.5820 - acc: 0.6603\n",
            "Epoch 45/50\n",
            "1719/1719 [==============================] - 1s 554us/step - loss: 0.5658 - acc: 0.6591\n",
            "Epoch 46/50\n",
            "1719/1719 [==============================] - 1s 561us/step - loss: 0.5472 - acc: 0.6614\n",
            "Epoch 47/50\n",
            "1719/1719 [==============================] - 1s 543us/step - loss: 0.5303 - acc: 0.6690\n",
            "Epoch 48/50\n",
            "1719/1719 [==============================] - 1s 561us/step - loss: 0.5228 - acc: 0.6614\n",
            "Epoch 49/50\n",
            "1719/1719 [==============================] - 1s 561us/step - loss: 0.5083 - acc: 0.6702\n",
            "Epoch 50/50\n",
            "1719/1719 [==============================] - 1s 563us/step - loss: 0.4942 - acc: 0.6719\n"
          ],
          "name": "stdout"
        },
        {
          "output_type": "execute_result",
          "data": {
            "text/plain": [
              "<keras.callbacks.History at 0x7fe39bd43a58>"
            ]
          },
          "metadata": {
            "tags": []
          },
          "execution_count": 152
        }
      ]
    },
    {
      "cell_type": "code",
      "metadata": {
        "id": "M5hjIE6muAVM",
        "colab_type": "code",
        "outputId": "faccf336-46c3-425e-e072-228d16ab4915",
        "colab": {
          "base_uri": "https://localhost:8080/",
          "height": 386
        }
      },
      "source": [
        "classifier.fit(x_train,y_train, batch_size=100, epochs=10)"
      ],
      "execution_count": 0,
      "outputs": [
        {
          "output_type": "stream",
          "text": [
            "Epoch 1/10\n",
            "1719/1719 [==============================] - 1s 550us/step - loss: 0.4893 - acc: 0.6725\n",
            "Epoch 2/10\n",
            "1719/1719 [==============================] - 1s 567us/step - loss: 0.4701 - acc: 0.6748\n",
            "Epoch 3/10\n",
            "1719/1719 [==============================] - 1s 559us/step - loss: 0.4612 - acc: 0.6783\n",
            "Epoch 4/10\n",
            "1719/1719 [==============================] - 1s 552us/step - loss: 0.4499 - acc: 0.6806\n",
            "Epoch 5/10\n",
            "1719/1719 [==============================] - 1s 557us/step - loss: 0.4384 - acc: 0.6882\n",
            "Epoch 6/10\n",
            "1719/1719 [==============================] - 1s 546us/step - loss: 0.4346 - acc: 0.6847\n",
            "Epoch 7/10\n",
            "1719/1719 [==============================] - 1s 557us/step - loss: 0.4274 - acc: 0.6841\n",
            "Epoch 8/10\n",
            "1719/1719 [==============================] - 1s 560us/step - loss: 0.4150 - acc: 0.6992\n",
            "Epoch 9/10\n",
            "1719/1719 [==============================] - 1s 548us/step - loss: 0.4077 - acc: 0.6958\n",
            "Epoch 10/10\n",
            "1719/1719 [==============================] - 1s 549us/step - loss: 0.4137 - acc: 0.7004\n"
          ],
          "name": "stdout"
        },
        {
          "output_type": "execute_result",
          "data": {
            "text/plain": [
              "<keras.callbacks.History at 0x7fe39b96b550>"
            ]
          },
          "metadata": {
            "tags": []
          },
          "execution_count": 153
        }
      ]
    },
    {
      "cell_type": "code",
      "metadata": {
        "id": "FWZImgGtnlNq",
        "colab_type": "code",
        "outputId": "47577d99-de61-44c4-8b91-213606805b63",
        "colab": {
          "base_uri": "https://localhost:8080/",
          "height": 52
        }
      },
      "source": [
        "eval_model=classifier.evaluate(x_train, y_train)\n",
        "eval_model"
      ],
      "execution_count": 0,
      "outputs": [
        {
          "output_type": "stream",
          "text": [
            "1719/1719 [==============================] - 1s 472us/step\n"
          ],
          "name": "stdout"
        },
        {
          "output_type": "execute_result",
          "data": {
            "text/plain": [
              "[0.4705476196717911, 0.6730657360663311]"
            ]
          },
          "metadata": {
            "tags": []
          },
          "execution_count": 154
        }
      ]
    }
  ]
}